{
 "cells": [
  {
   "cell_type": "markdown",
   "id": "d400df1a-4efe-40e4-9803-beb0cf49c255",
   "metadata": {},
   "source": [
    "## Objectif du Projet"
   ]
  },
  {
   "cell_type": "markdown",
   "id": "3443a8e1-59dc-4f20-81eb-a3509f776824",
   "metadata": {},
   "source": [
    "objectif :\n",
    "\n",
    "- L'objectif de ce projet est de créer un modèle prédictif pour prédire la valeur des logements en Californie.\n",
    "\n",
    "Contexte du projet :\n",
    "\n",
    "- Vous êtes développeur AI dans une startup de la Silicon Valley qui fournit des services dans le domaine de l'investissement immobilier. Les chargés de relation client ont mentionné que la demande a augmenté récemment et qu'il devient difficile de faire des estimations personnalisées. De ce fait, l'entreprise vous a confier d'automatiser cette tâche avec un modèle prédictif.\n",
    "- Pour cela, vous avez récupéré une base de données qui contient les prix médians des logements pour les districts de Californie issus du recensement de 1990 :\n",
    "- L'objectif est de créer un modèle avec vos données (train) pour prédire la valeur du prix médian des maisons par district / bloc (medianHouseValue). A la fin du projet, vous devez évaluer ce modèle avec les données (validation) que seul votre client dispose (le prof)."
   ]
  },
  {
   "cell_type": "markdown",
   "id": "1dafd91b-8b51-476c-9c4b-ae6aeda1aac8",
   "metadata": {},
   "source": [
    "## Imports"
   ]
  },
  {
   "cell_type": "code",
   "execution_count": 27,
   "id": "ea6efefe-c6b7-420d-9b8c-b999d5e2588e",
   "metadata": {},
   "outputs": [],
   "source": [
    "# imports des librairies\n",
    "import pandas as pd\n",
    "import numpy as np \n",
    "import matplotlib.pyplot as plt \n",
    "import seaborn as sns\n",
    "\n",
    "# préprocessing\n",
    "from sklearn import preprocessing\n",
    "from sklearn.model_selection import train_test_split\n",
    "\n",
    "# model\n",
    "from sklearn.linear_model import LinearRegression\n",
    "from sklearn.linear_model import RANSACRegressor\n",
    "\n",
    "# metrics\n",
    "from sklearn.metrics import mean_squared_error\n",
    "from sklearn.metrics import r2_score\n",
    "\n",
    "# export \n",
    "import pickle"
   ]
  },
  {
   "cell_type": "code",
   "execution_count": 28,
   "id": "7bd4f831-67c7-49cd-be9c-4634047b8419",
   "metadata": {},
   "outputs": [
    {
     "data": {
      "text/html": [
       "<div>\n",
       "<style scoped>\n",
       "    .dataframe tbody tr th:only-of-type {\n",
       "        vertical-align: middle;\n",
       "    }\n",
       "\n",
       "    .dataframe tbody tr th {\n",
       "        vertical-align: top;\n",
       "    }\n",
       "\n",
       "    .dataframe thead th {\n",
       "        text-align: right;\n",
       "    }\n",
       "</style>\n",
       "<table border=\"1\" class=\"dataframe\">\n",
       "  <thead>\n",
       "    <tr style=\"text-align: right;\">\n",
       "      <th></th>\n",
       "      <th>Unnamed: 0</th>\n",
       "      <th>longitude</th>\n",
       "      <th>latitude</th>\n",
       "      <th>housing_median_age</th>\n",
       "      <th>total_rooms</th>\n",
       "      <th>total_bedrooms</th>\n",
       "      <th>population</th>\n",
       "      <th>households</th>\n",
       "      <th>median_income</th>\n",
       "      <th>median_house_value</th>\n",
       "      <th>ocean_proximity</th>\n",
       "    </tr>\n",
       "  </thead>\n",
       "  <tbody>\n",
       "    <tr>\n",
       "      <th>0</th>\n",
       "      <td>2072</td>\n",
       "      <td>-119.84</td>\n",
       "      <td>36.77</td>\n",
       "      <td>6.0</td>\n",
       "      <td>1853.0</td>\n",
       "      <td>473.0</td>\n",
       "      <td>1397.0</td>\n",
       "      <td>417.0</td>\n",
       "      <td>1.4817</td>\n",
       "      <td>72000.0</td>\n",
       "      <td>INLAND</td>\n",
       "    </tr>\n",
       "    <tr>\n",
       "      <th>1</th>\n",
       "      <td>10600</td>\n",
       "      <td>-117.80</td>\n",
       "      <td>33.68</td>\n",
       "      <td>8.0</td>\n",
       "      <td>2032.0</td>\n",
       "      <td>349.0</td>\n",
       "      <td>862.0</td>\n",
       "      <td>340.0</td>\n",
       "      <td>6.9133</td>\n",
       "      <td>274100.0</td>\n",
       "      <td>&lt;1H OCEAN</td>\n",
       "    </tr>\n",
       "    <tr>\n",
       "      <th>2</th>\n",
       "      <td>2494</td>\n",
       "      <td>-120.19</td>\n",
       "      <td>36.60</td>\n",
       "      <td>25.0</td>\n",
       "      <td>875.0</td>\n",
       "      <td>214.0</td>\n",
       "      <td>931.0</td>\n",
       "      <td>214.0</td>\n",
       "      <td>1.5536</td>\n",
       "      <td>58300.0</td>\n",
       "      <td>INLAND</td>\n",
       "    </tr>\n",
       "    <tr>\n",
       "      <th>3</th>\n",
       "      <td>4284</td>\n",
       "      <td>-118.32</td>\n",
       "      <td>34.10</td>\n",
       "      <td>31.0</td>\n",
       "      <td>622.0</td>\n",
       "      <td>229.0</td>\n",
       "      <td>597.0</td>\n",
       "      <td>227.0</td>\n",
       "      <td>1.5284</td>\n",
       "      <td>200000.0</td>\n",
       "      <td>&lt;1H OCEAN</td>\n",
       "    </tr>\n",
       "    <tr>\n",
       "      <th>4</th>\n",
       "      <td>16541</td>\n",
       "      <td>-121.23</td>\n",
       "      <td>37.79</td>\n",
       "      <td>21.0</td>\n",
       "      <td>1922.0</td>\n",
       "      <td>373.0</td>\n",
       "      <td>1130.0</td>\n",
       "      <td>372.0</td>\n",
       "      <td>4.0815</td>\n",
       "      <td>117900.0</td>\n",
       "      <td>INLAND</td>\n",
       "    </tr>\n",
       "  </tbody>\n",
       "</table>\n",
       "</div>"
      ],
      "text/plain": [
       "   Unnamed: 0  longitude  latitude  housing_median_age  total_rooms  \\\n",
       "0        2072    -119.84     36.77                 6.0       1853.0   \n",
       "1       10600    -117.80     33.68                 8.0       2032.0   \n",
       "2        2494    -120.19     36.60                25.0        875.0   \n",
       "3        4284    -118.32     34.10                31.0        622.0   \n",
       "4       16541    -121.23     37.79                21.0       1922.0   \n",
       "\n",
       "   total_bedrooms  population  households  median_income  median_house_value  \\\n",
       "0           473.0      1397.0       417.0         1.4817             72000.0   \n",
       "1           349.0       862.0       340.0         6.9133            274100.0   \n",
       "2           214.0       931.0       214.0         1.5536             58300.0   \n",
       "3           229.0       597.0       227.0         1.5284            200000.0   \n",
       "4           373.0      1130.0       372.0         4.0815            117900.0   \n",
       "\n",
       "  ocean_proximity  \n",
       "0          INLAND  \n",
       "1       <1H OCEAN  \n",
       "2          INLAND  \n",
       "3       <1H OCEAN  \n",
       "4          INLAND  "
      ]
     },
     "metadata": {},
     "output_type": "display_data"
    },
    {
     "name": "stdout",
     "output_type": "stream",
     "text": [
      "(16512, 11)\n"
     ]
    }
   ],
   "source": [
    "# import des données\n",
    "df = pd.read_csv(\"../data/df.csv\")\n",
    "display(df.head())\n",
    "print(df.shape)"
   ]
  },
  {
   "cell_type": "markdown",
   "id": "88871f62-6ed6-487b-b317-527a2a4f5603",
   "metadata": {},
   "source": [
    "## EDA"
   ]
  },
  {
   "cell_type": "code",
   "execution_count": 29,
   "id": "0adaeb15-e853-4ba8-8f94-c0e404be4af9",
   "metadata": {},
   "outputs": [
    {
     "name": "stdout",
     "output_type": "stream",
     "text": [
      "<class 'pandas.core.frame.DataFrame'>\n",
      "RangeIndex: 16512 entries, 0 to 16511\n",
      "Data columns (total 11 columns):\n",
      " #   Column              Non-Null Count  Dtype  \n",
      "---  ------              --------------  -----  \n",
      " 0   Unnamed: 0          16512 non-null  int64  \n",
      " 1   longitude           16512 non-null  float64\n",
      " 2   latitude            16512 non-null  float64\n",
      " 3   housing_median_age  16512 non-null  float64\n",
      " 4   total_rooms         16512 non-null  float64\n",
      " 5   total_bedrooms      16336 non-null  float64\n",
      " 6   population          16512 non-null  float64\n",
      " 7   households          16512 non-null  float64\n",
      " 8   median_income       16512 non-null  float64\n",
      " 9   median_house_value  16512 non-null  float64\n",
      " 10  ocean_proximity     16512 non-null  object \n",
      "dtypes: float64(9), int64(1), object(1)\n",
      "memory usage: 1.4+ MB\n"
     ]
    }
   ],
   "source": [
    "df.info()"
   ]
  },
  {
   "cell_type": "markdown",
   "id": "dd3d9760-44d7-497c-be05-c457b249fee1",
   "metadata": {},
   "source": [
    "infos :\n",
    "\n",
    "- \n",
    "16512 row- s\n",
    "11 colum- ns\n",
    "\"total_bedrooms\" est la seul colonne qui possède des valeurs manquan- tes\n",
    "\"ocean_proximity\" est la seul colonne de type o rapport à la mer"
   ]
  },
  {
   "cell_type": "markdown",
   "id": "6118d0c9-2d6f-4dc4-964e-3eae8c7981eb",
   "metadata": {},
   "source": [
    "Plus d'information sur les variables :\n",
    "\n",
    "- longitude : la longitude d'un bloc\n",
    "- latitude : la latitude d'un bloc\n",
    "- housingMedianAge: Âge médian d'une maison dans un pâté de maisons ; un chiffre plus bas correspond à un bâtiment plus récent.\n",
    "- totalRooms: Nombre total de chambres dans un bloc\n",
    "- totalBedrooms: Nombre total de chambres dans un bloc\n",
    "- population: Nombre total de personnes résidant dans un bloc\n",
    "- households: Nombre total de ménages, c'est-à-dire un groupe de personnes résidant dans une unité d'habitation, pour un bloc\n",
    "- medianIncome: Revenu médian des ménages dans un bloc de maisons (mesuré en dizaines de milliers de dollars US)\n",
    "- medianHouseValue: Valeur médiane des maisons pour les ménages d'un bloc (mesurée en dollars US)\n",
    "- oceanProximity: Situation de la maison par rapport à la mer"
   ]
  },
  {
   "cell_type": "code",
   "execution_count": 30,
   "id": "eb071e05-6249-4b16-a957-6954d9d4d021",
   "metadata": {},
   "outputs": [
    {
     "data": {
      "text/html": [
       "<div>\n",
       "<style scoped>\n",
       "    .dataframe tbody tr th:only-of-type {\n",
       "        vertical-align: middle;\n",
       "    }\n",
       "\n",
       "    .dataframe tbody tr th {\n",
       "        vertical-align: top;\n",
       "    }\n",
       "\n",
       "    .dataframe thead th {\n",
       "        text-align: right;\n",
       "    }\n",
       "</style>\n",
       "<table border=\"1\" class=\"dataframe\">\n",
       "  <thead>\n",
       "    <tr style=\"text-align: right;\">\n",
       "      <th></th>\n",
       "      <th>Unnamed: 0</th>\n",
       "      <th>longitude</th>\n",
       "      <th>latitude</th>\n",
       "      <th>housing_median_age</th>\n",
       "      <th>total_rooms</th>\n",
       "      <th>total_bedrooms</th>\n",
       "      <th>population</th>\n",
       "      <th>households</th>\n",
       "      <th>median_income</th>\n",
       "      <th>median_house_value</th>\n",
       "    </tr>\n",
       "  </thead>\n",
       "  <tbody>\n",
       "    <tr>\n",
       "      <th>count</th>\n",
       "      <td>16512.000000</td>\n",
       "      <td>16512.000000</td>\n",
       "      <td>16512.000000</td>\n",
       "      <td>16512.000000</td>\n",
       "      <td>16512.000000</td>\n",
       "      <td>16336.000000</td>\n",
       "      <td>16512.000000</td>\n",
       "      <td>16512.000000</td>\n",
       "      <td>16512.000000</td>\n",
       "      <td>16512.000000</td>\n",
       "    </tr>\n",
       "    <tr>\n",
       "      <th>mean</th>\n",
       "      <td>10295.498789</td>\n",
       "      <td>-119.564046</td>\n",
       "      <td>35.626523</td>\n",
       "      <td>28.624516</td>\n",
       "      <td>2644.170603</td>\n",
       "      <td>539.319540</td>\n",
       "      <td>1435.017260</td>\n",
       "      <td>501.135962</td>\n",
       "      <td>3.864091</td>\n",
       "      <td>206509.251453</td>\n",
       "    </tr>\n",
       "    <tr>\n",
       "      <th>std</th>\n",
       "      <td>5941.973488</td>\n",
       "      <td>2.005033</td>\n",
       "      <td>2.139150</td>\n",
       "      <td>12.597980</td>\n",
       "      <td>2213.946369</td>\n",
       "      <td>425.207704</td>\n",
       "      <td>1158.151967</td>\n",
       "      <td>385.650673</td>\n",
       "      <td>1.893244</td>\n",
       "      <td>115225.957661</td>\n",
       "    </tr>\n",
       "    <tr>\n",
       "      <th>min</th>\n",
       "      <td>0.000000</td>\n",
       "      <td>-124.350000</td>\n",
       "      <td>32.540000</td>\n",
       "      <td>1.000000</td>\n",
       "      <td>6.000000</td>\n",
       "      <td>2.000000</td>\n",
       "      <td>3.000000</td>\n",
       "      <td>2.000000</td>\n",
       "      <td>0.499900</td>\n",
       "      <td>14999.000000</td>\n",
       "    </tr>\n",
       "    <tr>\n",
       "      <th>25%</th>\n",
       "      <td>5178.750000</td>\n",
       "      <td>-121.790000</td>\n",
       "      <td>33.930000</td>\n",
       "      <td>18.000000</td>\n",
       "      <td>1446.000000</td>\n",
       "      <td>296.000000</td>\n",
       "      <td>788.000000</td>\n",
       "      <td>280.000000</td>\n",
       "      <td>2.562500</td>\n",
       "      <td>119400.000000</td>\n",
       "    </tr>\n",
       "    <tr>\n",
       "      <th>50%</th>\n",
       "      <td>10263.500000</td>\n",
       "      <td>-118.490000</td>\n",
       "      <td>34.250000</td>\n",
       "      <td>29.000000</td>\n",
       "      <td>2116.000000</td>\n",
       "      <td>435.000000</td>\n",
       "      <td>1168.000000</td>\n",
       "      <td>410.000000</td>\n",
       "      <td>3.531300</td>\n",
       "      <td>179300.000000</td>\n",
       "    </tr>\n",
       "    <tr>\n",
       "      <th>75%</th>\n",
       "      <td>15438.250000</td>\n",
       "      <td>-118.010000</td>\n",
       "      <td>37.710000</td>\n",
       "      <td>37.000000</td>\n",
       "      <td>3154.000000</td>\n",
       "      <td>647.000000</td>\n",
       "      <td>1738.000000</td>\n",
       "      <td>606.000000</td>\n",
       "      <td>4.733225</td>\n",
       "      <td>264500.000000</td>\n",
       "    </tr>\n",
       "    <tr>\n",
       "      <th>max</th>\n",
       "      <td>20639.000000</td>\n",
       "      <td>-114.310000</td>\n",
       "      <td>41.950000</td>\n",
       "      <td>52.000000</td>\n",
       "      <td>39320.000000</td>\n",
       "      <td>6445.000000</td>\n",
       "      <td>35682.000000</td>\n",
       "      <td>6082.000000</td>\n",
       "      <td>15.000100</td>\n",
       "      <td>500001.000000</td>\n",
       "    </tr>\n",
       "  </tbody>\n",
       "</table>\n",
       "</div>"
      ],
      "text/plain": [
       "         Unnamed: 0     longitude      latitude  housing_median_age  \\\n",
       "count  16512.000000  16512.000000  16512.000000        16512.000000   \n",
       "mean   10295.498789   -119.564046     35.626523           28.624516   \n",
       "std     5941.973488      2.005033      2.139150           12.597980   \n",
       "min        0.000000   -124.350000     32.540000            1.000000   \n",
       "25%     5178.750000   -121.790000     33.930000           18.000000   \n",
       "50%    10263.500000   -118.490000     34.250000           29.000000   \n",
       "75%    15438.250000   -118.010000     37.710000           37.000000   \n",
       "max    20639.000000   -114.310000     41.950000           52.000000   \n",
       "\n",
       "        total_rooms  total_bedrooms    population    households  \\\n",
       "count  16512.000000    16336.000000  16512.000000  16512.000000   \n",
       "mean    2644.170603      539.319540   1435.017260    501.135962   \n",
       "std     2213.946369      425.207704   1158.151967    385.650673   \n",
       "min        6.000000        2.000000      3.000000      2.000000   \n",
       "25%     1446.000000      296.000000    788.000000    280.000000   \n",
       "50%     2116.000000      435.000000   1168.000000    410.000000   \n",
       "75%     3154.000000      647.000000   1738.000000    606.000000   \n",
       "max    39320.000000     6445.000000  35682.000000   6082.000000   \n",
       "\n",
       "       median_income  median_house_value  \n",
       "count   16512.000000        16512.000000  \n",
       "mean        3.864091       206509.251453  \n",
       "std         1.893244       115225.957661  \n",
       "min         0.499900        14999.000000  \n",
       "25%         2.562500       119400.000000  \n",
       "50%         3.531300       179300.000000  \n",
       "75%         4.733225       264500.000000  \n",
       "max        15.000100       500001.000000  "
      ]
     },
     "execution_count": 30,
     "metadata": {},
     "output_type": "execute_result"
    }
   ],
   "source": [
    "df.describe()"
   ]
  },
  {
   "cell_type": "code",
   "execution_count": 31,
   "id": "ea0fc8bf-db07-40ac-91ec-0d224545716e",
   "metadata": {},
   "outputs": [],
   "source": [
    "# Modification des colonnes\n",
    "\n",
    "df.rename(columns = {'Unnamed: 0': \"index\"},\n",
    "         inplace = True, errors = 'raise')"
   ]
  },
  {
   "cell_type": "code",
   "execution_count": 32,
   "id": "2498643b-986b-4b24-aa92-e03bb2934b33",
   "metadata": {},
   "outputs": [
    {
     "data": {
      "text/plain": [
       "0"
      ]
     },
     "execution_count": 32,
     "metadata": {},
     "output_type": "execute_result"
    }
   ],
   "source": [
    "# vérifier les duplicates \n",
    "df.duplicated().sum()"
   ]
  },
  {
   "cell_type": "markdown",
   "id": "fec98490-6a8f-4f31-a3b4-e6f86337c34a",
   "metadata": {},
   "source": [
    "Ce dataset ne possède pas de valeurs dupliquées"
   ]
  },
  {
   "cell_type": "code",
   "execution_count": 33,
   "id": "6b12799b-597d-4ffa-8506-24d81841fec6",
   "metadata": {},
   "outputs": [
    {
     "data": {
      "text/html": [
       "<div>\n",
       "<style scoped>\n",
       "    .dataframe tbody tr th:only-of-type {\n",
       "        vertical-align: middle;\n",
       "    }\n",
       "\n",
       "    .dataframe tbody tr th {\n",
       "        vertical-align: top;\n",
       "    }\n",
       "\n",
       "    .dataframe thead th {\n",
       "        text-align: right;\n",
       "    }\n",
       "</style>\n",
       "<table border=\"1\" class=\"dataframe\">\n",
       "  <thead>\n",
       "    <tr style=\"text-align: right;\">\n",
       "      <th></th>\n",
       "      <th>index</th>\n",
       "      <th>longitude</th>\n",
       "      <th>latitude</th>\n",
       "      <th>housing_median_age</th>\n",
       "      <th>total_rooms</th>\n",
       "      <th>total_bedrooms</th>\n",
       "      <th>population</th>\n",
       "      <th>households</th>\n",
       "      <th>median_income</th>\n",
       "      <th>median_house_value</th>\n",
       "      <th>_&lt;1H OCEAN</th>\n",
       "      <th>_INLAND</th>\n",
       "      <th>_ISLAND</th>\n",
       "      <th>_NEAR BAY</th>\n",
       "      <th>_NEAR OCEAN</th>\n",
       "    </tr>\n",
       "  </thead>\n",
       "  <tbody>\n",
       "    <tr>\n",
       "      <th>0</th>\n",
       "      <td>2072</td>\n",
       "      <td>-119.84</td>\n",
       "      <td>36.77</td>\n",
       "      <td>6.0</td>\n",
       "      <td>1853.0</td>\n",
       "      <td>473.0</td>\n",
       "      <td>1397.0</td>\n",
       "      <td>417.0</td>\n",
       "      <td>1.4817</td>\n",
       "      <td>72000.0</td>\n",
       "      <td>False</td>\n",
       "      <td>True</td>\n",
       "      <td>False</td>\n",
       "      <td>False</td>\n",
       "      <td>False</td>\n",
       "    </tr>\n",
       "    <tr>\n",
       "      <th>1</th>\n",
       "      <td>10600</td>\n",
       "      <td>-117.80</td>\n",
       "      <td>33.68</td>\n",
       "      <td>8.0</td>\n",
       "      <td>2032.0</td>\n",
       "      <td>349.0</td>\n",
       "      <td>862.0</td>\n",
       "      <td>340.0</td>\n",
       "      <td>6.9133</td>\n",
       "      <td>274100.0</td>\n",
       "      <td>True</td>\n",
       "      <td>False</td>\n",
       "      <td>False</td>\n",
       "      <td>False</td>\n",
       "      <td>False</td>\n",
       "    </tr>\n",
       "    <tr>\n",
       "      <th>2</th>\n",
       "      <td>2494</td>\n",
       "      <td>-120.19</td>\n",
       "      <td>36.60</td>\n",
       "      <td>25.0</td>\n",
       "      <td>875.0</td>\n",
       "      <td>214.0</td>\n",
       "      <td>931.0</td>\n",
       "      <td>214.0</td>\n",
       "      <td>1.5536</td>\n",
       "      <td>58300.0</td>\n",
       "      <td>False</td>\n",
       "      <td>True</td>\n",
       "      <td>False</td>\n",
       "      <td>False</td>\n",
       "      <td>False</td>\n",
       "    </tr>\n",
       "    <tr>\n",
       "      <th>3</th>\n",
       "      <td>4284</td>\n",
       "      <td>-118.32</td>\n",
       "      <td>34.10</td>\n",
       "      <td>31.0</td>\n",
       "      <td>622.0</td>\n",
       "      <td>229.0</td>\n",
       "      <td>597.0</td>\n",
       "      <td>227.0</td>\n",
       "      <td>1.5284</td>\n",
       "      <td>200000.0</td>\n",
       "      <td>True</td>\n",
       "      <td>False</td>\n",
       "      <td>False</td>\n",
       "      <td>False</td>\n",
       "      <td>False</td>\n",
       "    </tr>\n",
       "    <tr>\n",
       "      <th>4</th>\n",
       "      <td>16541</td>\n",
       "      <td>-121.23</td>\n",
       "      <td>37.79</td>\n",
       "      <td>21.0</td>\n",
       "      <td>1922.0</td>\n",
       "      <td>373.0</td>\n",
       "      <td>1130.0</td>\n",
       "      <td>372.0</td>\n",
       "      <td>4.0815</td>\n",
       "      <td>117900.0</td>\n",
       "      <td>False</td>\n",
       "      <td>True</td>\n",
       "      <td>False</td>\n",
       "      <td>False</td>\n",
       "      <td>False</td>\n",
       "    </tr>\n",
       "  </tbody>\n",
       "</table>\n",
       "</div>"
      ],
      "text/plain": [
       "   index  longitude  latitude  housing_median_age  total_rooms  \\\n",
       "0   2072    -119.84     36.77                 6.0       1853.0   \n",
       "1  10600    -117.80     33.68                 8.0       2032.0   \n",
       "2   2494    -120.19     36.60                25.0        875.0   \n",
       "3   4284    -118.32     34.10                31.0        622.0   \n",
       "4  16541    -121.23     37.79                21.0       1922.0   \n",
       "\n",
       "   total_bedrooms  population  households  median_income  median_house_value  \\\n",
       "0           473.0      1397.0       417.0         1.4817             72000.0   \n",
       "1           349.0       862.0       340.0         6.9133            274100.0   \n",
       "2           214.0       931.0       214.0         1.5536             58300.0   \n",
       "3           229.0       597.0       227.0         1.5284            200000.0   \n",
       "4           373.0      1130.0       372.0         4.0815            117900.0   \n",
       "\n",
       "   _<1H OCEAN  _INLAND  _ISLAND  _NEAR BAY  _NEAR OCEAN  \n",
       "0       False     True    False      False        False  \n",
       "1        True    False    False      False        False  \n",
       "2       False     True    False      False        False  \n",
       "3        True    False    False      False        False  \n",
       "4       False     True    False      False        False  "
      ]
     },
     "metadata": {},
     "output_type": "display_data"
    },
    {
     "name": "stdout",
     "output_type": "stream",
     "text": [
      "(16512, 15)\n"
     ]
    }
   ],
   "source": [
    "# encoder les features catégorielles\n",
    "df = pd.get_dummies(df, columns=['ocean_proximity'], prefix=[\"\"])\n",
    "display(df.head())\n",
    "print(df.shape)"
   ]
  },
  {
   "cell_type": "code",
   "execution_count": 34,
   "id": "6bfda906-9c30-40a5-b7b3-009d9aec8c08",
   "metadata": {},
   "outputs": [
    {
     "data": {
      "text/plain": [
       "index                   0\n",
       "longitude               0\n",
       "latitude                0\n",
       "housing_median_age      0\n",
       "total_rooms             0\n",
       "total_bedrooms        176\n",
       "population              0\n",
       "households              0\n",
       "median_income           0\n",
       "median_house_value      0\n",
       "_<1H OCEAN              0\n",
       "_INLAND                 0\n",
       "_ISLAND                 0\n",
       "_NEAR BAY               0\n",
       "_NEAR OCEAN             0\n",
       "dtype: int64"
      ]
     },
     "execution_count": 34,
     "metadata": {},
     "output_type": "execute_result"
    }
   ],
   "source": [
    "# Traiter les valeurs manquantes\n",
    "df.isnull().sum()"
   ]
  },
  {
   "cell_type": "code",
   "execution_count": 35,
   "id": "cfa4580a-9d19-487c-81ee-fe6141bdccc8",
   "metadata": {},
   "outputs": [],
   "source": [
    "# calculer le pourcentage de nan de total_bedrooms par rapport au total des données disponibles "
   ]
  },
  {
   "cell_type": "markdown",
   "id": "da0bc0a1-e54b-4c79-84d1-044cbaecc090",
   "metadata": {},
   "source": [
    "Je vais supprimer mes valeurs manquantes (faibles pourcentage de nan sur toutes données)"
   ]
  },
  {
   "cell_type": "code",
   "execution_count": 36,
   "id": "774900df-761e-40dc-a5c8-df8045d70ed4",
   "metadata": {},
   "outputs": [],
   "source": [
    "df = df.dropna()"
   ]
  },
  {
   "cell_type": "code",
   "execution_count": 37,
   "id": "170b81b8-7f26-4206-b260-671bfac36f32",
   "metadata": {},
   "outputs": [
    {
     "data": {
      "text/plain": [
       "index                 0\n",
       "longitude             0\n",
       "latitude              0\n",
       "housing_median_age    0\n",
       "total_rooms           0\n",
       "total_bedrooms        0\n",
       "population            0\n",
       "households            0\n",
       "median_income         0\n",
       "median_house_value    0\n",
       "_<1H OCEAN            0\n",
       "_INLAND               0\n",
       "_ISLAND               0\n",
       "_NEAR BAY             0\n",
       "_NEAR OCEAN           0\n",
       "dtype: int64"
      ]
     },
     "execution_count": 37,
     "metadata": {},
     "output_type": "execute_result"
    }
   ],
   "source": [
    "df.isnull().sum()"
   ]
  },
  {
   "cell_type": "code",
   "execution_count": 38,
   "id": "d77978d9-bf8a-4054-b149-ab5fe901439e",
   "metadata": {},
   "outputs": [],
   "source": [
    "# sélection des features à donner au modèle\n",
    "df = df.drop([\"index\",\"_NEAR OCEAN\", \"_NEAR BAY\", \"_ISLAND\", \"_INLAND\", \"_<1H OCEAN\", \"households\"], axis=1)"
   ]
  },
  {
   "cell_type": "code",
   "execution_count": 39,
   "id": "8dd2c240-b04c-454f-83ad-02fb05187b2c",
   "metadata": {},
   "outputs": [
    {
     "data": {
      "text/plain": [
       "Index(['housing_median_age', 'total_rooms', 'total_bedrooms', 'population',\n",
       "       'median_income', 'median_house_value'],\n",
       "      dtype='object')"
      ]
     },
     "execution_count": 39,
     "metadata": {},
     "output_type": "execute_result"
    }
   ],
   "source": [
    "df.columns"
   ]
  },
  {
   "cell_type": "markdown",
   "id": "993a7619-d220-4904-8ec4-0305f7314ef7",
   "metadata": {},
   "source": [
    "## Export du df "
   ]
  },
  {
   "cell_type": "code",
   "execution_count": 40,
   "id": "e9816981-e78a-47e3-a789-18c0904c45d3",
   "metadata": {},
   "outputs": [],
   "source": [
    "df.to_csv(\"../data/df_final.csv\", index=False)"
   ]
  },
  {
   "cell_type": "markdown",
   "id": "b72010a3-c6f8-49ee-aea2-b6912f2ce7e9",
   "metadata": {},
   "source": [
    "## Linear Regression model"
   ]
  },
  {
   "cell_type": "code",
   "execution_count": 47,
   "id": "cc03f669-fb13-416c-9f1f-ee3279f23098",
   "metadata": {},
   "outputs": [],
   "source": [
    "# split les données en X (features) et y (target)\n",
    "X = df.drop([\"median_house_value\"], axis = 1)\n",
    "y = df[\"median_house_value\"]"
   ]
  },
  {
   "cell_type": "code",
   "execution_count": 48,
   "id": "23c2cdc6-3c62-4faf-8f9d-875c1d531bfb",
   "metadata": {},
   "outputs": [],
   "source": [
    "# Train test split en ensemble de test et de train\n",
    "X_train, X_test, y_train, y_test = train_test_split(X, y, train_size = 0.8, random_state = 42)"
   ]
  },
  {
   "cell_type": "markdown",
   "id": "a57ffe32-f7a6-4712-bc03-6d3aa567a866",
   "metadata": {},
   "source": [
    "### Cross Validation"
   ]
  },
  {
   "cell_type": "code",
   "execution_count": 49,
   "id": "d99bab5e-a939-4b98-9c6c-da8ae175574d",
   "metadata": {},
   "outputs": [
    {
     "name": "stdout",
     "output_type": "stream",
     "text": [
      "R²: 0.56 (+/- 0.02)\n",
      "RMSE:  76251.79336632713\n"
     ]
    }
   ],
   "source": [
    "from sklearn.linear_model import LinearRegression\n",
    "from sklearn.model_selection import cross_val_score\n",
    "from sklearn.metrics import r2_score, mean_squared_error\n",
    "from sklearn.model_selection import train_test_split\n",
    "\n",
    "# Create a linear regression object\n",
    "reg = LinearRegression()\n",
    "\n",
    "# Perform 5-fold cross-validation\n",
    "scores = cross_val_score(reg, X, y, cv=5)\n",
    "scores_1 = np.sqrt(-cross_val_score(reg, X, y, cv=5, scoring='neg_mean_squared_error'))\n",
    "\n",
    "# Print the mean and standard deviation of the scores\n",
    "print(\"R²: %0.2f (+/- %0.2f)\" % (scores.mean(), scores.std() * 2))\n",
    "print(\"RMSE: \", scores_1.mean())"
   ]
  },
  {
   "cell_type": "markdown",
   "id": "8dabc423-0cbf-4d5f-9585-e60c1b792a61",
   "metadata": {},
   "source": [
    "### train test split"
   ]
  },
  {
   "cell_type": "code",
   "execution_count": 50,
   "id": "9636ac53-c1a8-4622-acb2-1e0e7b6f83dc",
   "metadata": {},
   "outputs": [],
   "source": [
    "lr = LinearRegression()\n",
    "lr.fit(X_train, y_train)\n",
    "lr_preds = lr.predict(X_test)"
   ]
  },
  {
   "cell_type": "code",
   "execution_count": 51,
   "id": "74942950-bea8-434d-accc-8615280a2ab2",
   "metadata": {},
   "outputs": [
    {
     "name": "stdout",
     "output_type": "stream",
     "text": [
      "RMSE : 77259.95696109782\n",
      "R^2:  0.5460121276426214\n"
     ]
    }
   ],
   "source": [
    "print(\"RMSE :\", np.sqrt(mean_squared_error(y_test, lr_preds)))\n",
    "print(\"R^2: \", r2_score(y_test, lr_preds))"
   ]
  },
  {
   "cell_type": "code",
   "execution_count": 52,
   "id": "407db5f7-5fa0-495c-ab98-da1187640ff9",
   "metadata": {},
   "outputs": [
    {
     "data": {
      "text/plain": [
       "{'copy_X': True, 'fit_intercept': True, 'n_jobs': None, 'positive': False}"
      ]
     },
     "execution_count": 52,
     "metadata": {},
     "output_type": "execute_result"
    }
   ],
   "source": [
    "lr.get_params()"
   ]
  },
  {
   "cell_type": "markdown",
   "id": "2f0f7515-4f21-43c5-8b9f-5f6163bfe371",
   "metadata": {},
   "source": [
    "### hyperparameter tuning"
   ]
  },
  {
   "cell_type": "code",
   "execution_count": 21,
   "id": "29e94ee7-e778-43ce-b756-d40d4f1ca425",
   "metadata": {},
   "outputs": [],
   "source": [
    "from sklearn.model_selection import GridSearchCV"
   ]
  },
  {
   "cell_type": "markdown",
   "id": "2dc38702-2919-4d8f-8875-37229ba43d9d",
   "metadata": {},
   "source": [
    "## Export du modèle"
   ]
  },
  {
   "cell_type": "code",
   "execution_count": 22,
   "id": "567c73e3-7eb7-4b6d-b4bc-b535ab72e61c",
   "metadata": {},
   "outputs": [
    {
     "data": {
      "text/plain": [
       "Index(['housing_median_age', 'total_rooms', 'total_bedrooms', 'population',\n",
       "       'median_income'],\n",
       "      dtype='object')"
      ]
     },
     "execution_count": 22,
     "metadata": {},
     "output_type": "execute_result"
    }
   ],
   "source": [
    "X.columns"
   ]
  },
  {
   "cell_type": "code",
   "execution_count": 23,
   "id": "f71ee7fc-adea-4224-b48a-ac0cc2290fa7",
   "metadata": {},
   "outputs": [],
   "source": [
    "# Train the model\n",
    "reg.fit(X, y)\n",
    "\n",
    "# Save the model\n",
    "filename = '../data/linear_regression_model.pkl'\n",
    "with open(filename, 'wb') as file:\n",
    "    pickle.dump(reg, file)"
   ]
  },
  {
   "cell_type": "markdown",
   "id": "4fb9168b-1eab-45f1-826c-a5484a2c1290",
   "metadata": {},
   "source": [
    "## RANSAC Regression model"
   ]
  },
  {
   "cell_type": "markdown",
   "id": "404d2989-78b6-4a40-9716-7de544528b7e",
   "metadata": {},
   "source": [
    "Random Sample Consensus, or RANSAC for short, is another robust regression algorithm. RANSAC tries to separate data into outliers and inliers and fits the model on the inliers."
   ]
  },
  {
   "cell_type": "markdown",
   "id": "5451565e-6582-408e-b92e-5c073cde7b90",
   "metadata": {},
   "source": [
    "### Ransac Regressor with parameters"
   ]
  },
  {
   "cell_type": "code",
   "execution_count": 24,
   "id": "d394d186-b611-4b3d-810f-8e7918d61442",
   "metadata": {},
   "outputs": [
    {
     "name": "stdout",
     "output_type": "stream",
     "text": [
      "RMSE: 77259.95696109782\n",
      "R²: -0.18806725395455426\n"
     ]
    }
   ],
   "source": [
    "# Créez une instance de RANSACRegressor en spécifiant les hyperparamètres\n",
    "ransac = RANSACRegressor(\n",
    "    LinearRegression(),   # Vous pouvez spécifier ici un modèle de régression linéaire personnalisé si nécessaire.\n",
    "    residual_threshold=10, # La distance seuil pour considérer un échantillon comme inlier (float).\n",
    "    max_trials=10,        # Le nombre maximum d'itérations pour RANSAC (int).\n",
    "    random_state=42,      # Le générateur de nombres aléatoires (int ou instance de RandomState).\n",
    "\n",
    "    \n",
    "    # loss='absolute_error',  # La fonction de perte à minimiser (str ou fonction).\n",
    "    # min_samples=None,       # Le nombre minimum d'échantillons requis pour ajuster un modèle (int ou float).\n",
    "    # is_data_valid=None,     # Une fonction personnalisée pour valider les données.\n",
    "    # is_model_valid=None,    # Une fonction personnalisée pour valider le modèle.\n",
    "    # max_skips=None,         # Le nombre maximum d'échantillons à ignorer lors de la sélection de nouveaux inliers (int).\n",
    "    # stop_n_inliers=None,    # Arrêter la recherche lorsque ce nombre d'inliers est atteint (int).\n",
    "    # stop_probability=None,  # Arrêter la recherche lorsque cette probabilité est atteinte (float).\n",
    "    # stop_score=None,        # Arrêter la recherche lorsque ce score est atteint (float).\n",
    "    # residual_metric=None,   # La mesure de la distance à utiliser pour calculer les résidus (str ou fonction).\n",
    "    # min_samples_2=None,     # Le nombre minimum d'échantillons requis pour considérer un modèle valide (int ou float).\n",
    "    # stop_n_inliers_ratio=None,  # Arrêter la recherche lorsque ce ratio d'inliers est atteint (float).\n",
    "    # stop_score_ratio=None   # Arrêter la recherche lorsque ce ratio de score est atteint (float).\n",
    ")\n",
    "\n",
    "# Train model\n",
    "ransac.fit(X_train, y_train)\n",
    "\n",
    "# Model prediction\n",
    "y_pred = ransac.predict(X_test)\n",
    "# Evaluate the model\n",
    "rmse = np.sqrt(mean_squared_error(y_test, lr_preds))\n",
    "r2 = r2_score(y_test, y_pred)\n",
    "\n",
    "# Evaluate the model \n",
    "print('RMSE:', rmse)\n",
    "print('R²:', r2_score(y_test, y_pred))"
   ]
  },
  {
   "cell_type": "markdown",
   "id": "6f48c57b-e2b8-4ae8-beac-155eb4bfc974",
   "metadata": {},
   "source": [
    "### Tuning avec Grid search"
   ]
  },
  {
   "cell_type": "code",
   "execution_count": 25,
   "id": "dfa299f0-cf1b-4902-84a3-0d539be86686",
   "metadata": {},
   "outputs": [
    {
     "ename": "NameError",
     "evalue": "name 'ransac_tune' is not defined",
     "output_type": "error",
     "traceback": [
      "\u001b[0;31m---------------------------------------------------------------------------\u001b[0m",
      "\u001b[0;31mNameError\u001b[0m                                 Traceback (most recent call last)",
      "Cell \u001b[0;32mIn[25], line 6\u001b[0m\n\u001b[1;32m      1\u001b[0m param_grid \u001b[38;5;241m=\u001b[39m {\n\u001b[1;32m      2\u001b[0m     \u001b[38;5;124m'\u001b[39m\u001b[38;5;124mresidual_threshold\u001b[39m\u001b[38;5;124m'\u001b[39m: np\u001b[38;5;241m.\u001b[39marange(\u001b[38;5;241m0.1\u001b[39m, \u001b[38;5;241m1.0\u001b[39m, \u001b[38;5;241m10\u001b[39m),\n\u001b[1;32m      3\u001b[0m     \u001b[38;5;124m'\u001b[39m\u001b[38;5;124mmax_trials\u001b[39m\u001b[38;5;124m'\u001b[39m: [\u001b[38;5;241m10\u001b[39m, \u001b[38;5;241m20\u001b[39m, \u001b[38;5;241m30\u001b[39m]\n\u001b[1;32m      4\u001b[0m }\n\u001b[0;32m----> 6\u001b[0m grid_search \u001b[38;5;241m=\u001b[39m GridSearchCV(estimator\u001b[38;5;241m=\u001b[39m\u001b[43mransac_tune\u001b[49m, param_grid\u001b[38;5;241m=\u001b[39mparam_grid, cv\u001b[38;5;241m=\u001b[39m\u001b[38;5;241m5\u001b[39m)\n\u001b[1;32m      8\u001b[0m grid_search\u001b[38;5;241m.\u001b[39mfit(X, y) \n\u001b[1;32m     10\u001b[0m \u001b[38;5;28mprint\u001b[39m(\u001b[38;5;124m\"\u001b[39m\u001b[38;5;124mMeilleurs hyperparamètres:\u001b[39m\u001b[38;5;124m\"\u001b[39m, grid_search\u001b[38;5;241m.\u001b[39mbest_params_)\n",
      "\u001b[0;31mNameError\u001b[0m: name 'ransac_tune' is not defined"
     ]
    }
   ],
   "source": [
    "param_grid = {\n",
    "    'residual_threshold': np.arange(0.1, 1.0, 10),\n",
    "    'max_trials': [10, 20, 30]\n",
    "}\n",
    "\n",
    "grid_search = GridSearchCV(estimator=ransac_tune, param_grid=param_grid, cv=5)\n",
    "\n",
    "grid_search.fit(X, y) \n",
    "\n",
    "print(\"Meilleurs hyperparamètres:\", grid_search.best_params_)"
   ]
  },
  {
   "cell_type": "code",
   "execution_count": null,
   "id": "445bd0b3-fd86-4a6e-b09c-445c2582af5d",
   "metadata": {},
   "outputs": [],
   "source": [
    "# Créez une instance de RANSACRegressor en spécifiant les hyperparamètres\n",
    "ransac_tune = RANSACRegressor(\n",
    "    LinearRegression(),  \n",
    "    residual_threshold=10,\n",
    "    max_trials=10,        \n",
    "    random_state=42,      \n",
    ")\n",
    "\n",
    "# Train model\n",
    "ransac_tune.fit(X_train, y_train)\n",
    "\n",
    "# Model prediction\n",
    "y_pred = ransac_tune.predict(X_test)\n",
    "# Evaluate the model\n",
    "rmse = np.sqrt(mean_squared_error(y_test, lr_preds))\n",
    "r2 = r2_score(y_test, y_pred)\n",
    "\n",
    "# Evaluate the model \n",
    "print('RMSE:', rmse)\n",
    "print('R²:', r2_score(y_test, y_pred))"
   ]
  },
  {
   "cell_type": "code",
   "execution_count": null,
   "id": "757c097d-2561-42f2-b8a7-578296befe7d",
   "metadata": {},
   "outputs": [],
   "source": []
  },
  {
   "cell_type": "code",
   "execution_count": null,
   "id": "c303ed0d-1bae-4296-8a3e-9001e1eb3ff8",
   "metadata": {},
   "outputs": [],
   "source": []
  }
 ],
 "metadata": {
  "kernelspec": {
   "display_name": "Python 3 (ipykernel)",
   "language": "python",
   "name": "python3"
  },
  "language_info": {
   "codemirror_mode": {
    "name": "ipython",
    "version": 3
   },
   "file_extension": ".py",
   "mimetype": "text/x-python",
   "name": "python",
   "nbconvert_exporter": "python",
   "pygments_lexer": "ipython3",
   "version": "3.8.12"
  },
  "vscode": {
   "interpreter": {
    "hash": "f8b06675708e25eba2c5b12286c179b589af5504d21ec16cd4d21f4194227f89"
   }
  }
 },
 "nbformat": 4,
 "nbformat_minor": 5
}
